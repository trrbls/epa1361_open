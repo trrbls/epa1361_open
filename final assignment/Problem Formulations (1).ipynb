{
 "cells": [
  {
   "cell_type": "code",
   "execution_count": 1,
   "metadata": {
    "ExecuteTime": {
     "end_time": "2023-06-12T11:50:06.987797600Z",
     "start_time": "2023-06-12T11:50:05.356508400Z"
    }
   },
   "outputs": [],
   "source": [
    "import numpy as np\n",
    "import scipy as sp\n",
    "import pandas as pd\n",
    "import matplotlib.pyplot as plt\n",
    "import seaborn as sns\n",
    "import networkx as nx"
   ]
  },
  {
   "cell_type": "code",
   "execution_count": 2,
   "metadata": {
    "ExecuteTime": {
     "end_time": "2023-06-12T11:50:07.017539600Z",
     "start_time": "2023-06-12T11:50:06.988798500Z"
    }
   },
   "outputs": [
    {
     "name": "stdout",
     "output_type": "stream",
     "text": [
      "2.0.1\n",
      "3.1\n"
     ]
    }
   ],
   "source": [
    "# make sure pandas is version 1.0 or higher\n",
    "# make sure networkx is verion 2.4 or higher\n",
    "print(pd.__version__)\n",
    "print(nx.__version__)"
   ]
  },
  {
   "cell_type": "code",
   "execution_count": 3,
   "metadata": {
    "scrolled": true,
    "ExecuteTime": {
     "end_time": "2023-06-12T11:50:14.023366Z",
     "start_time": "2023-06-12T11:50:07.014514Z"
    }
   },
   "outputs": [],
   "source": [
    "from ema_workbench import (\n",
    "    Model,\n",
    "    Policy,\n",
    "    ema_logging,\n",
    "    SequentialEvaluator,\n",
    "    MultiprocessingEvaluator,\n",
    ")\n",
    "from dike_model_function import DikeNetwork  # @UnresolvedImport\n",
    "from problem_formulation import get_model_for_problem_formulation, sum_over, sum_over_time\n",
    "\n"
   ]
  },
  {
   "cell_type": "code",
   "execution_count": 4,
   "metadata": {
    "ExecuteTime": {
     "end_time": "2023-06-12T11:50:15.862815200Z",
     "start_time": "2023-06-12T11:50:14.030852500Z"
    }
   },
   "outputs": [],
   "source": [
    "ema_logging.log_to_stderr(ema_logging.INFO)\n",
    "\n",
    "# choose problem formulation number, between 0-5\n",
    "# each problem formulation has its own list of outcomes\n",
    "dike_model, planning_steps = get_model_for_problem_formulation(3)"
   ]
  },
  {
   "cell_type": "code",
   "execution_count": 5,
   "metadata": {
    "ExecuteTime": {
     "end_time": "2023-06-12T11:50:15.937696300Z",
     "start_time": "2023-06-12T11:50:15.867829500Z"
    }
   },
   "outputs": [
    {
     "name": "stdout",
     "output_type": "stream",
     "text": [
      "CategoricalParameter('discount rate 0', [0, 1, 2, 3])\n",
      "CategoricalParameter('discount rate 1', [0, 1, 2, 3])\n",
      "CategoricalParameter('discount rate 2', [0, 1, 2, 3])\n",
      "IntegerParameter('A.0_ID flood wave shape', 0, 132, resolution=None, default=None, variable_name=['A.0_ID flood wave shape'], pff=False)\n",
      "RealParameter('A.1_Bmax', 30, 350, resolution=None, default=None, variable_name=['A.1_Bmax'], pff=False)\n",
      "RealParameter('A.1_pfail', 0, 1, resolution=None, default=None, variable_name=['A.1_pfail'], pff=False)\n",
      "CategoricalParameter('A.1_Brate', [0, 1, 2])\n",
      "RealParameter('A.2_Bmax', 30, 350, resolution=None, default=None, variable_name=['A.2_Bmax'], pff=False)\n",
      "RealParameter('A.2_pfail', 0, 1, resolution=None, default=None, variable_name=['A.2_pfail'], pff=False)\n",
      "CategoricalParameter('A.2_Brate', [0, 1, 2])\n",
      "RealParameter('A.3_Bmax', 30, 350, resolution=None, default=None, variable_name=['A.3_Bmax'], pff=False)\n",
      "RealParameter('A.3_pfail', 0, 1, resolution=None, default=None, variable_name=['A.3_pfail'], pff=False)\n",
      "CategoricalParameter('A.3_Brate', [0, 1, 2])\n",
      "RealParameter('A.4_Bmax', 30, 350, resolution=None, default=None, variable_name=['A.4_Bmax'], pff=False)\n",
      "RealParameter('A.4_pfail', 0, 1, resolution=None, default=None, variable_name=['A.4_pfail'], pff=False)\n",
      "CategoricalParameter('A.4_Brate', [0, 1, 2])\n",
      "RealParameter('A.5_Bmax', 30, 350, resolution=None, default=None, variable_name=['A.5_Bmax'], pff=False)\n",
      "RealParameter('A.5_pfail', 0, 1, resolution=None, default=None, variable_name=['A.5_pfail'], pff=False)\n",
      "CategoricalParameter('A.5_Brate', [0, 1, 2])\n"
     ]
    }
   ],
   "source": [
    "# enlisting uncertainties, their types (RealParameter/IntegerParameter/CategoricalParameter), lower boundary, and upper boundary\n",
    "import copy\n",
    "\n",
    "for unc in dike_model.uncertainties:\n",
    "    print(repr(unc))\n",
    "\n",
    "uncertainties = copy.deepcopy(dike_model.uncertainties)"
   ]
  },
  {
   "cell_type": "code",
   "execution_count": 6,
   "metadata": {
    "ExecuteTime": {
     "end_time": "2023-06-12T11:50:16.066233700Z",
     "start_time": "2023-06-12T11:50:15.897777200Z"
    }
   },
   "outputs": [
    {
     "name": "stdout",
     "output_type": "stream",
     "text": [
      "IntegerParameter('0_RfR 0', 0, 1, resolution=None, default=None, variable_name=['0_RfR 0'], pff=False)\n",
      "IntegerParameter('0_RfR 1', 0, 1, resolution=None, default=None, variable_name=['0_RfR 1'], pff=False)\n",
      "IntegerParameter('0_RfR 2', 0, 1, resolution=None, default=None, variable_name=['0_RfR 2'], pff=False)\n",
      "IntegerParameter('1_RfR 0', 0, 1, resolution=None, default=None, variable_name=['1_RfR 0'], pff=False)\n",
      "IntegerParameter('1_RfR 1', 0, 1, resolution=None, default=None, variable_name=['1_RfR 1'], pff=False)\n",
      "IntegerParameter('1_RfR 2', 0, 1, resolution=None, default=None, variable_name=['1_RfR 2'], pff=False)\n",
      "IntegerParameter('2_RfR 0', 0, 1, resolution=None, default=None, variable_name=['2_RfR 0'], pff=False)\n",
      "IntegerParameter('2_RfR 1', 0, 1, resolution=None, default=None, variable_name=['2_RfR 1'], pff=False)\n",
      "IntegerParameter('2_RfR 2', 0, 1, resolution=None, default=None, variable_name=['2_RfR 2'], pff=False)\n",
      "IntegerParameter('3_RfR 0', 0, 1, resolution=None, default=None, variable_name=['3_RfR 0'], pff=False)\n",
      "IntegerParameter('3_RfR 1', 0, 1, resolution=None, default=None, variable_name=['3_RfR 1'], pff=False)\n",
      "IntegerParameter('3_RfR 2', 0, 1, resolution=None, default=None, variable_name=['3_RfR 2'], pff=False)\n",
      "IntegerParameter('4_RfR 0', 0, 1, resolution=None, default=None, variable_name=['4_RfR 0'], pff=False)\n",
      "IntegerParameter('4_RfR 1', 0, 1, resolution=None, default=None, variable_name=['4_RfR 1'], pff=False)\n",
      "IntegerParameter('4_RfR 2', 0, 1, resolution=None, default=None, variable_name=['4_RfR 2'], pff=False)\n",
      "IntegerParameter('EWS_DaysToThreat', 0, 4, resolution=None, default=None, variable_name=['EWS_DaysToThreat'], pff=False)\n",
      "IntegerParameter('A.1_DikeIncrease 0', 0, 10, resolution=None, default=None, variable_name=['A.1_DikeIncrease 0'], pff=False)\n",
      "IntegerParameter('A.1_DikeIncrease 1', 0, 10, resolution=None, default=None, variable_name=['A.1_DikeIncrease 1'], pff=False)\n",
      "IntegerParameter('A.1_DikeIncrease 2', 0, 10, resolution=None, default=None, variable_name=['A.1_DikeIncrease 2'], pff=False)\n",
      "IntegerParameter('A.2_DikeIncrease 0', 0, 10, resolution=None, default=None, variable_name=['A.2_DikeIncrease 0'], pff=False)\n",
      "IntegerParameter('A.2_DikeIncrease 1', 0, 10, resolution=None, default=None, variable_name=['A.2_DikeIncrease 1'], pff=False)\n",
      "IntegerParameter('A.2_DikeIncrease 2', 0, 10, resolution=None, default=None, variable_name=['A.2_DikeIncrease 2'], pff=False)\n",
      "IntegerParameter('A.3_DikeIncrease 0', 0, 10, resolution=None, default=None, variable_name=['A.3_DikeIncrease 0'], pff=False)\n",
      "IntegerParameter('A.3_DikeIncrease 1', 0, 10, resolution=None, default=None, variable_name=['A.3_DikeIncrease 1'], pff=False)\n",
      "IntegerParameter('A.3_DikeIncrease 2', 0, 10, resolution=None, default=None, variable_name=['A.3_DikeIncrease 2'], pff=False)\n",
      "IntegerParameter('A.4_DikeIncrease 0', 0, 10, resolution=None, default=None, variable_name=['A.4_DikeIncrease 0'], pff=False)\n",
      "IntegerParameter('A.4_DikeIncrease 1', 0, 10, resolution=None, default=None, variable_name=['A.4_DikeIncrease 1'], pff=False)\n",
      "IntegerParameter('A.4_DikeIncrease 2', 0, 10, resolution=None, default=None, variable_name=['A.4_DikeIncrease 2'], pff=False)\n",
      "IntegerParameter('A.5_DikeIncrease 0', 0, 10, resolution=None, default=None, variable_name=['A.5_DikeIncrease 0'], pff=False)\n",
      "IntegerParameter('A.5_DikeIncrease 1', 0, 10, resolution=None, default=None, variable_name=['A.5_DikeIncrease 1'], pff=False)\n",
      "IntegerParameter('A.5_DikeIncrease 2', 0, 10, resolution=None, default=None, variable_name=['A.5_DikeIncrease 2'], pff=False)\n"
     ]
    }
   ],
   "source": [
    "# enlisting policy levers, their types (RealParameter/IntegerParameter), lower boundary, and upper boundary\n",
    "for policy in dike_model.levers:\n",
    "    print(repr(policy))\n",
    "\n",
    "levers = copy.deepcopy(dike_model.levers)"
   ]
  },
  {
   "cell_type": "code",
   "execution_count": 7,
   "metadata": {
    "ExecuteTime": {
     "end_time": "2023-06-12T11:50:16.067234900Z",
     "start_time": "2023-06-12T11:50:15.925492300Z"
    }
   },
   "outputs": [
    {
     "name": "stdout",
     "output_type": "stream",
     "text": [
      "ScalarOutcome('A.1 Total Costs', variable_name=('A.1_Expected Annual Damage', 'A.1_Dike Investment Costs'), function=<function sum_over at 0x00000200E05CD3A0>)\n",
      "ScalarOutcome('A.1_Expected Number of Deaths', variable_name=('A.1_Expected Number of Deaths',), function=<function sum_over at 0x00000200E05CD3A0>)\n",
      "ScalarOutcome('A.2 Total Costs', variable_name=('A.2_Expected Annual Damage', 'A.2_Dike Investment Costs'), function=<function sum_over at 0x00000200E05CD3A0>)\n",
      "ScalarOutcome('A.2_Expected Number of Deaths', variable_name=('A.2_Expected Number of Deaths',), function=<function sum_over at 0x00000200E05CD3A0>)\n",
      "ScalarOutcome('A.3 Total Costs', variable_name=('A.3_Expected Annual Damage', 'A.3_Dike Investment Costs'), function=<function sum_over at 0x00000200E05CD3A0>)\n",
      "ScalarOutcome('A.3_Expected Number of Deaths', variable_name=('A.3_Expected Number of Deaths',), function=<function sum_over at 0x00000200E05CD3A0>)\n",
      "ScalarOutcome('A.4 Total Costs', variable_name=('A.4_Expected Annual Damage', 'A.4_Dike Investment Costs'), function=<function sum_over at 0x00000200E05CD3A0>)\n",
      "ScalarOutcome('A.4_Expected Number of Deaths', variable_name=('A.4_Expected Number of Deaths',), function=<function sum_over at 0x00000200E05CD3A0>)\n",
      "ScalarOutcome('A.5 Total Costs', variable_name=('A.5_Expected Annual Damage', 'A.5_Dike Investment Costs'), function=<function sum_over at 0x00000200E05CD3A0>)\n",
      "ScalarOutcome('A.5_Expected Number of Deaths', variable_name=('A.5_Expected Number of Deaths',), function=<function sum_over at 0x00000200E05CD3A0>)\n",
      "ScalarOutcome('RfR Total Costs', variable_name=('RfR Total Costs',), function=<function sum_over at 0x00000200E05CD3A0>)\n",
      "ScalarOutcome('Expected Evacuation Costs', variable_name=('Expected Evacuation Costs',), function=<function sum_over at 0x00000200E05CD3A0>)\n"
     ]
    }
   ],
   "source": [
    "# enlisting outcomes\n",
    "for outcome in dike_model.outcomes:\n",
    "    print(repr(outcome))"
   ]
  },
  {
   "cell_type": "code",
   "execution_count": 8,
   "metadata": {
    "ExecuteTime": {
     "end_time": "2023-06-12T12:31:00.286107400Z",
     "start_time": "2023-06-12T11:50:15.938697500Z"
    }
   },
   "outputs": [
    {
     "name": "stderr",
     "output_type": "stream",
     "text": [
      "[MainProcess/INFO] pool started with 12 workers\n",
      "[MainProcess/INFO] performing 1000 scenarios * 20 policies * 1 model(s) = 20000 experiments\n",
      "100%|████████████████████████████████████| 20000/20000 [39:51<00:00,  8.36it/s]\n",
      "[MainProcess/INFO] experiments finished\n",
      "[MainProcess/INFO] terminating pool\n"
     ]
    }
   ],
   "source": [
    "# running the model through EMA workbench\n",
    "with MultiprocessingEvaluator(dike_model) as evaluator:\n",
    "    results = evaluator.perform_experiments(scenarios=1000, policies=20)"
   ]
  },
  {
   "cell_type": "code",
   "execution_count": 11,
   "metadata": {
    "scrolled": true,
    "ExecuteTime": {
     "end_time": "2023-06-12T12:31:35.212554800Z",
     "start_time": "2023-06-12T12:31:35.180561700Z"
    }
   },
   "outputs": [
    {
     "name": "stdout",
     "output_type": "stream",
     "text": [
      "dict_keys(['A.1 Total Costs', 'A.1_Expected Number of Deaths', 'A.2 Total Costs', 'A.2_Expected Number of Deaths', 'A.3 Total Costs', 'A.3_Expected Number of Deaths', 'A.4 Total Costs', 'A.4_Expected Number of Deaths', 'A.5 Total Costs', 'A.5_Expected Number of Deaths', 'RfR Total Costs', 'Expected Evacuation Costs'])\n"
     ]
    },
    {
     "data": {
      "text/plain": "       A.0_ID flood wave shape    A.1_Bmax A.1_Brate  A.1_pfail    A.2_Bmax   \n0                           17  345.712502      10.0   0.728638   37.722265  \\\n1                           86   72.464352       1.5   0.054115  154.943361   \n2                           27  348.743540      10.0   0.061011  160.344607   \n3                           55  324.660415      10.0   0.990353  285.584226   \n4                           29  181.220933       1.0   0.975884   48.845047   \n...                        ...         ...       ...        ...         ...   \n19995                       35  262.970915      10.0   0.287774   57.969460   \n19996                      131  270.584914       1.5   0.777523   78.742453   \n19997                       86  196.029769       1.0   0.533157  347.659111   \n19998                       29  339.859540       1.5   0.688389  261.123535   \n19999                      106  276.344733       1.5   0.559343   62.450673   \n\n      A.2_Brate  A.2_pfail    A.3_Bmax A.3_Brate  A.3_pfail  ...   \n0           1.5   0.959779  227.275706       1.5   0.428011  ...  \\\n1          10.0   0.344173  132.677822       1.0   0.044889  ...   \n2           1.5   0.691151  128.020377       1.5   0.045851  ...   \n3           1.5   0.105428  175.956893      10.0   0.935988  ...   \n4           1.0   0.673831  144.279642      10.0   0.437092  ...   \n...         ...        ...         ...       ...        ...  ...   \n19995       1.5   0.408155   64.167570       1.0   0.522788  ...   \n19996       1.0   0.118731  189.723536       1.0   0.745762  ...   \n19997       1.5   0.877057  115.858408       1.0   0.460251  ...   \n19998       1.5   0.242347  295.586514      10.0   0.749624  ...   \n19999       1.0   0.718684   64.941623       1.5   0.367774  ...   \n\n       A.4_DikeIncrease 0 A.4_DikeIncrease 1  A.4_DikeIncrease 2   \n0                       6                  1                   4  \\\n1                       6                  1                   4   \n2                       6                  1                   4   \n3                       6                  1                   4   \n4                       6                  1                   4   \n...                   ...                ...                 ...   \n19995                   2                  8                   8   \n19996                   2                  8                   8   \n19997                   2                  8                   8   \n19998                   2                  8                   8   \n19999                   2                  8                   8   \n\n       A.5_DikeIncrease 0 A.5_DikeIncrease 1  A.5_DikeIncrease 2   \n0                       9                  3                   4  \\\n1                       9                  3                   4   \n2                       9                  3                   4   \n3                       9                  3                   4   \n4                       9                  3                   4   \n...                   ...                ...                 ...   \n19995                  10                  9                   7   \n19996                  10                  9                   7   \n19997                  10                  9                   7   \n19998                  10                  9                   7   \n19999                  10                  9                   7   \n\n      EWS_DaysToThreat scenario policy     model  \n0                    1       20      0  dikesnet  \n1                    1       21      0  dikesnet  \n2                    1       22      0  dikesnet  \n3                    1       23      0  dikesnet  \n4                    1       24      0  dikesnet  \n...                ...      ...    ...       ...  \n19995                4     1015     19  dikesnet  \n19996                4     1016     19  dikesnet  \n19997                4     1017     19  dikesnet  \n19998                4     1018     19  dikesnet  \n19999                4     1019     19  dikesnet  \n\n[20000 rows x 53 columns]",
      "text/html": "<div>\n<style scoped>\n    .dataframe tbody tr th:only-of-type {\n        vertical-align: middle;\n    }\n\n    .dataframe tbody tr th {\n        vertical-align: top;\n    }\n\n    .dataframe thead th {\n        text-align: right;\n    }\n</style>\n<table border=\"1\" class=\"dataframe\">\n  <thead>\n    <tr style=\"text-align: right;\">\n      <th></th>\n      <th>A.0_ID flood wave shape</th>\n      <th>A.1_Bmax</th>\n      <th>A.1_Brate</th>\n      <th>A.1_pfail</th>\n      <th>A.2_Bmax</th>\n      <th>A.2_Brate</th>\n      <th>A.2_pfail</th>\n      <th>A.3_Bmax</th>\n      <th>A.3_Brate</th>\n      <th>A.3_pfail</th>\n      <th>...</th>\n      <th>A.4_DikeIncrease 0</th>\n      <th>A.4_DikeIncrease 1</th>\n      <th>A.4_DikeIncrease 2</th>\n      <th>A.5_DikeIncrease 0</th>\n      <th>A.5_DikeIncrease 1</th>\n      <th>A.5_DikeIncrease 2</th>\n      <th>EWS_DaysToThreat</th>\n      <th>scenario</th>\n      <th>policy</th>\n      <th>model</th>\n    </tr>\n  </thead>\n  <tbody>\n    <tr>\n      <th>0</th>\n      <td>17</td>\n      <td>345.712502</td>\n      <td>10.0</td>\n      <td>0.728638</td>\n      <td>37.722265</td>\n      <td>1.5</td>\n      <td>0.959779</td>\n      <td>227.275706</td>\n      <td>1.5</td>\n      <td>0.428011</td>\n      <td>...</td>\n      <td>6</td>\n      <td>1</td>\n      <td>4</td>\n      <td>9</td>\n      <td>3</td>\n      <td>4</td>\n      <td>1</td>\n      <td>20</td>\n      <td>0</td>\n      <td>dikesnet</td>\n    </tr>\n    <tr>\n      <th>1</th>\n      <td>86</td>\n      <td>72.464352</td>\n      <td>1.5</td>\n      <td>0.054115</td>\n      <td>154.943361</td>\n      <td>10.0</td>\n      <td>0.344173</td>\n      <td>132.677822</td>\n      <td>1.0</td>\n      <td>0.044889</td>\n      <td>...</td>\n      <td>6</td>\n      <td>1</td>\n      <td>4</td>\n      <td>9</td>\n      <td>3</td>\n      <td>4</td>\n      <td>1</td>\n      <td>21</td>\n      <td>0</td>\n      <td>dikesnet</td>\n    </tr>\n    <tr>\n      <th>2</th>\n      <td>27</td>\n      <td>348.743540</td>\n      <td>10.0</td>\n      <td>0.061011</td>\n      <td>160.344607</td>\n      <td>1.5</td>\n      <td>0.691151</td>\n      <td>128.020377</td>\n      <td>1.5</td>\n      <td>0.045851</td>\n      <td>...</td>\n      <td>6</td>\n      <td>1</td>\n      <td>4</td>\n      <td>9</td>\n      <td>3</td>\n      <td>4</td>\n      <td>1</td>\n      <td>22</td>\n      <td>0</td>\n      <td>dikesnet</td>\n    </tr>\n    <tr>\n      <th>3</th>\n      <td>55</td>\n      <td>324.660415</td>\n      <td>10.0</td>\n      <td>0.990353</td>\n      <td>285.584226</td>\n      <td>1.5</td>\n      <td>0.105428</td>\n      <td>175.956893</td>\n      <td>10.0</td>\n      <td>0.935988</td>\n      <td>...</td>\n      <td>6</td>\n      <td>1</td>\n      <td>4</td>\n      <td>9</td>\n      <td>3</td>\n      <td>4</td>\n      <td>1</td>\n      <td>23</td>\n      <td>0</td>\n      <td>dikesnet</td>\n    </tr>\n    <tr>\n      <th>4</th>\n      <td>29</td>\n      <td>181.220933</td>\n      <td>1.0</td>\n      <td>0.975884</td>\n      <td>48.845047</td>\n      <td>1.0</td>\n      <td>0.673831</td>\n      <td>144.279642</td>\n      <td>10.0</td>\n      <td>0.437092</td>\n      <td>...</td>\n      <td>6</td>\n      <td>1</td>\n      <td>4</td>\n      <td>9</td>\n      <td>3</td>\n      <td>4</td>\n      <td>1</td>\n      <td>24</td>\n      <td>0</td>\n      <td>dikesnet</td>\n    </tr>\n    <tr>\n      <th>...</th>\n      <td>...</td>\n      <td>...</td>\n      <td>...</td>\n      <td>...</td>\n      <td>...</td>\n      <td>...</td>\n      <td>...</td>\n      <td>...</td>\n      <td>...</td>\n      <td>...</td>\n      <td>...</td>\n      <td>...</td>\n      <td>...</td>\n      <td>...</td>\n      <td>...</td>\n      <td>...</td>\n      <td>...</td>\n      <td>...</td>\n      <td>...</td>\n      <td>...</td>\n      <td>...</td>\n    </tr>\n    <tr>\n      <th>19995</th>\n      <td>35</td>\n      <td>262.970915</td>\n      <td>10.0</td>\n      <td>0.287774</td>\n      <td>57.969460</td>\n      <td>1.5</td>\n      <td>0.408155</td>\n      <td>64.167570</td>\n      <td>1.0</td>\n      <td>0.522788</td>\n      <td>...</td>\n      <td>2</td>\n      <td>8</td>\n      <td>8</td>\n      <td>10</td>\n      <td>9</td>\n      <td>7</td>\n      <td>4</td>\n      <td>1015</td>\n      <td>19</td>\n      <td>dikesnet</td>\n    </tr>\n    <tr>\n      <th>19996</th>\n      <td>131</td>\n      <td>270.584914</td>\n      <td>1.5</td>\n      <td>0.777523</td>\n      <td>78.742453</td>\n      <td>1.0</td>\n      <td>0.118731</td>\n      <td>189.723536</td>\n      <td>1.0</td>\n      <td>0.745762</td>\n      <td>...</td>\n      <td>2</td>\n      <td>8</td>\n      <td>8</td>\n      <td>10</td>\n      <td>9</td>\n      <td>7</td>\n      <td>4</td>\n      <td>1016</td>\n      <td>19</td>\n      <td>dikesnet</td>\n    </tr>\n    <tr>\n      <th>19997</th>\n      <td>86</td>\n      <td>196.029769</td>\n      <td>1.0</td>\n      <td>0.533157</td>\n      <td>347.659111</td>\n      <td>1.5</td>\n      <td>0.877057</td>\n      <td>115.858408</td>\n      <td>1.0</td>\n      <td>0.460251</td>\n      <td>...</td>\n      <td>2</td>\n      <td>8</td>\n      <td>8</td>\n      <td>10</td>\n      <td>9</td>\n      <td>7</td>\n      <td>4</td>\n      <td>1017</td>\n      <td>19</td>\n      <td>dikesnet</td>\n    </tr>\n    <tr>\n      <th>19998</th>\n      <td>29</td>\n      <td>339.859540</td>\n      <td>1.5</td>\n      <td>0.688389</td>\n      <td>261.123535</td>\n      <td>1.5</td>\n      <td>0.242347</td>\n      <td>295.586514</td>\n      <td>10.0</td>\n      <td>0.749624</td>\n      <td>...</td>\n      <td>2</td>\n      <td>8</td>\n      <td>8</td>\n      <td>10</td>\n      <td>9</td>\n      <td>7</td>\n      <td>4</td>\n      <td>1018</td>\n      <td>19</td>\n      <td>dikesnet</td>\n    </tr>\n    <tr>\n      <th>19999</th>\n      <td>106</td>\n      <td>276.344733</td>\n      <td>1.5</td>\n      <td>0.559343</td>\n      <td>62.450673</td>\n      <td>1.0</td>\n      <td>0.718684</td>\n      <td>64.941623</td>\n      <td>1.5</td>\n      <td>0.367774</td>\n      <td>...</td>\n      <td>2</td>\n      <td>8</td>\n      <td>8</td>\n      <td>10</td>\n      <td>9</td>\n      <td>7</td>\n      <td>4</td>\n      <td>1019</td>\n      <td>19</td>\n      <td>dikesnet</td>\n    </tr>\n  </tbody>\n</table>\n<p>20000 rows × 53 columns</p>\n</div>"
     },
     "execution_count": 11,
     "metadata": {},
     "output_type": "execute_result"
    }
   ],
   "source": [
    "# observing the simulation runs\n",
    "experiments, outcomes = results\n",
    "print(outcomes.keys())\n",
    "experiments"
   ]
  },
  {
   "cell_type": "code",
   "execution_count": 13,
   "metadata": {
    "ExecuteTime": {
     "end_time": "2023-06-12T12:31:59.997933900Z",
     "start_time": "2023-06-12T12:31:59.427830900Z"
    }
   },
   "outputs": [],
   "source": [
    "# only works because we have scalar outcomes\n",
    "df_experiments = pd.DataFrame(experiments)\n",
    "df_experiments.to_csv('./experiments/experiments_open_exploration.csv')"
   ]
  },
  {
   "cell_type": "code",
   "execution_count": 16,
   "outputs": [],
   "source": [
    "df_outcomes = pd.DataFrame(outcomes)\n",
    "df_outcomes.to_csv(\"./experiments/outcomes_open_exploration\")"
   ],
   "metadata": {
    "collapsed": false,
    "ExecuteTime": {
     "end_time": "2023-06-12T12:32:14.900565500Z",
     "start_time": "2023-06-12T12:32:14.646686700Z"
    }
   }
  }
 ],
 "metadata": {
  "kernelspec": {
   "display_name": "Python 3 (ipykernel)",
   "language": "python",
   "name": "python3"
  },
  "language_info": {
   "codemirror_mode": {
    "name": "ipython",
    "version": 3
   },
   "file_extension": ".py",
   "mimetype": "text/x-python",
   "name": "python",
   "nbconvert_exporter": "python",
   "pygments_lexer": "ipython3",
   "version": "3.9.16"
  }
 },
 "nbformat": 4,
 "nbformat_minor": 4
}
